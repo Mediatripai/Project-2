{
 "cells": [
  {
   "cell_type": "markdown",
   "metadata": {},
   "source": [
    "Jupyter Notebook Walkthrough\n",
    "1. Importing Libraries\n",
    "2. Loading the Dataset\n",
    "Here, the dataset movies.csv is loaded into a pandas DataFrame called df."
   ]
  },
  {
   "cell_type": "code",
   "execution_count": 36,
   "metadata": {},
   "outputs": [
    {
     "name": "stdout",
     "output_type": "stream",
     "text": [
      "Column names in the DataFrame:\n",
      "['Movie Title', 'Year', 'Genre', 'Critic Name', 'Rating', 'Review Text', 'Runtime', 'Director', 'Cast', 'Awards']\n",
      "First few rows of the DataFrame:\n",
      "                Movie Title  Year       Genre   Critic Name Rating  \\\n",
      "0  The Shawshank Redemption  1994       Drama   Roger Ebert    4.5   \n",
      "1             The Godfather  1972       Crime   Gene Siskel      4   \n",
      "2          Schindler's List  1993  Historical  Pauline Kael    4.5   \n",
      "3                       ...   ...         ...           ...    ...   \n",
      "\n",
      "                        Review Text      Runtime              Director  \\\n",
      "0  A masterpiece of storytelling...  142 minutes        Frank Darabont   \n",
      "1            A classic film that...  175 minutes  Francis Ford Coppola   \n",
      "2          A powerful and moving...  195 minutes      Steven Spielberg   \n",
      "3                               ...          ...                   ...   \n",
      "\n",
      "                                       Cast  \\\n",
      "0   Tim Robbins, Morgan Freeman, Bob Gunton   \n",
      "1      Marlon Brando, Al Pacino, James Caan   \n",
      "2  Liam Neeson, Ralph Fiennes, Ben Kingsley   \n",
      "3                                       ...   \n",
      "\n",
      "                                       Awards  \n",
      "0    7 Academy Award nominations, 1 Oscar win  \n",
      "1  11 Academy Award nominations, 3 Oscar wins  \n",
      "2  12 Academy Award nominations, 7 Oscar wins  \n",
      "3                                         ...  \n"
     ]
    }
   ],
   "source": [
    "import pandas as pd\n",
    "\n",
    "# Step 1: Reading the CSV File\n",
    "# Load the movies dataset\n",
    "df = pd.read_csv('movies.csv')\n",
    "\n",
    "# Step 2: Inspecting the DataFrame\n",
    "print(\"Column names in the DataFrame:\")\n",
    "print(df.columns.tolist())  # Print column names as a list\n",
    "\n",
    "# Display the first few rows of the data for reference\n",
    "print(\"First few rows of the DataFrame:\")\n",
    "print(df.head())"
   ]
  },
  {
   "cell_type": "markdown",
   "metadata": {},
   "source": [
    "The \"Cast\" column, which contains actors' names separated by commas, is split into three new columns: Actor1, Actor2, and Actor3. This makes it easier to analyze the individual actors involved in each movie.\n",
    "\n",
    "3. Splitting the Cast Information"
   ]
  },
  {
   "cell_type": "code",
   "execution_count": 37,
   "metadata": {},
   "outputs": [],
   "source": [
    "df[['Actor1', 'Actor2', 'Actor3']] = df['Cast'].str.split(',', expand=True)"
   ]
  },
  {
   "cell_type": "markdown",
   "metadata": {},
   "source": [
    "The \"Rating\" column is printed to inspect its content. This will reveal the ratings associated with each movie, which may include some non-numeric data. In this case, there are some values causing issues for further analysis.\n",
    "\n",
    "4. Inspecting the Ratings"
   ]
  },
  {
   "cell_type": "code",
   "execution_count": 38,
   "metadata": {},
   "outputs": [
    {
     "name": "stdout",
     "output_type": "stream",
     "text": [
      "0    4.5\n",
      "1      4\n",
      "2    4.5\n",
      "3    ...\n",
      "Name: Rating, dtype: object\n"
     ]
    }
   ],
   "source": [
    "print(df['Rating'])"
   ]
  },
  {
   "cell_type": "code",
   "execution_count": 39,
   "metadata": {},
   "outputs": [
    {
     "name": "stdout",
     "output_type": "stream",
     "text": [
      "First few rows of the DataFrame:\n",
      "                Movie Title  Year       Genre   Critic Name Rating  \\\n",
      "0  The Shawshank Redemption  1994       Drama   Roger Ebert    4.5   \n",
      "1             The Godfather  1972       Crime   Gene Siskel      4   \n",
      "2          Schindler's List  1993  Historical  Pauline Kael    4.5   \n",
      "3                       ...   ...         ...           ...    ...   \n",
      "\n",
      "                        Review Text      Runtime              Director  \\\n",
      "0  A masterpiece of storytelling...  142 minutes        Frank Darabont   \n",
      "1            A classic film that...  175 minutes  Francis Ford Coppola   \n",
      "2          A powerful and moving...  195 minutes      Steven Spielberg   \n",
      "3                               ...          ...                   ...   \n",
      "\n",
      "                                       Cast  \\\n",
      "0   Tim Robbins, Morgan Freeman, Bob Gunton   \n",
      "1      Marlon Brando, Al Pacino, James Caan   \n",
      "2  Liam Neeson, Ralph Fiennes, Ben Kingsley   \n",
      "3                                       ...   \n",
      "\n",
      "                                       Awards  \n",
      "0    7 Academy Award nominations, 1 Oscar win  \n",
      "1  11 Academy Award nominations, 3 Oscar wins  \n",
      "2  12 Academy Award nominations, 7 Oscar wins  \n",
      "3                                         ...  \n",
      "Column names in the DataFrame:\n",
      "Index(['Movie Title', 'Year', 'Genre', 'Critic Name', 'Rating', 'Review Text',\n",
      "       'Runtime', 'Director', 'Cast', 'Awards'],\n",
      "      dtype='object')\n",
      "Column 'release_year' does not exist in the DataFrame.\n",
      "DataFrame info after cleaning:\n",
      "<class 'pandas.core.frame.DataFrame'>\n",
      "RangeIndex: 4 entries, 0 to 3\n",
      "Data columns (total 10 columns):\n",
      " #   Column       Non-Null Count  Dtype \n",
      "---  ------       --------------  ----- \n",
      " 0   Movie Title  4 non-null      object\n",
      " 1   Year         4 non-null      object\n",
      " 2   Genre        4 non-null      object\n",
      " 3   Critic Name  4 non-null      object\n",
      " 4   Rating       4 non-null      object\n",
      " 5   Review Text  4 non-null      object\n",
      " 6   Runtime      4 non-null      object\n",
      " 7   Director     4 non-null      object\n",
      " 8   Cast         4 non-null      object\n",
      " 9   Awards       4 non-null      object\n",
      "dtypes: object(10)\n",
      "memory usage: 452.0+ bytes\n",
      "None\n"
     ]
    }
   ],
   "source": [
    "import pandas as pd\n",
    "import matplotlib.pyplot as plt\n",
    "\n",
    "# Step 1: Reading the CSV File\n",
    "# Load the movies dataset\n",
    "df = pd.read_csv('movies.csv')\n",
    "\n",
    "# Display the first few rows of the data\n",
    "print(\"First few rows of the DataFrame:\")\n",
    "print(df.head())\n",
    "\n",
    "# Step 2: Data Cleaning and Preprocessing\n",
    "# Check the column names in the DataFrame\n",
    "print(\"Column names in the DataFrame:\")\n",
    "print(df.columns)\n",
    "\n",
    "# Drop rows with missing values\n",
    "df.dropna(inplace=True)\n",
    "\n",
    "# Check for duplicates and remove them if necessary\n",
    "df.drop_duplicates(inplace=True)\n",
    "\n",
    "# Convert the 'release_year' to integer if it's not already\n",
    "release_year_col = 'release_year'  # Update this with the correct name if different\n",
    "if release_year_col in df.columns:\n",
    "    df[release_year_col] = df[release_year_col].astype(int)\n",
    "else:\n",
    "    print(f\"Column '{release_year_col}' does not exist in the DataFrame.\")\n",
    "\n",
    "# Display cleaned data\n",
    "print(\"DataFrame info after cleaning:\")\n",
    "print(df.info())\n",
    "\n",
    "# Step 3: Bas"
   ]
  },
  {
   "cell_type": "markdown",
   "metadata": {},
   "source": [
    "Extracting numeric values from the 'Rating' column\n",
    "The 'Rating' column may contain non-numeric characters or be formatted inconsistently\n",
    "Using a regular expression, we extract only the numeric values in the format of digits followed by a decimal point (e.g., '8.5')\n",
    "The extract() function captures the first occurrence of this pattern in each cell\n",
    "expand=False ensures that the result is a Series, not a DataFrame, so it can be reassigned back to the 'Rating' column"
   ]
  },
  {
   "cell_type": "code",
   "execution_count": 40,
   "metadata": {},
   "outputs": [],
   "source": [
    "df['Rating'] = df['Rating'].str.extract(r'(\\d+\\.\\d+)', expand=False)"
   ]
  },
  {
   "cell_type": "markdown",
   "metadata": {},
   "source": [
    "Converting the 'Rating' column to numeric\n",
    "After extracting numeric values, the 'Rating' column is still a string (object) type\n",
    "We use pd.to_numeric() to convert it to a numeric data type (float)\n",
    "The 'errors' parameter is set to 'coerce', meaning any invalid values (non-numeric) will be replaced with NaN\n",
    "This step ensures that the column can be used for numerical calculations and analyses"
   ]
  },
  {
   "cell_type": "code",
   "execution_count": 41,
   "metadata": {},
   "outputs": [],
   "source": [
    "df['Rating'] = pd.to_numeric(df['Rating'], errors='coerce')"
   ]
  },
  {
   "cell_type": "markdown",
   "metadata": {},
   "source": [
    "Calculating the average movie rating\n",
    "After converting the 'Rating' column to numeric, we can now calculate the mean (average) of all ratings\n",
    "The mean() function automatically handles any NaN values, skipping them in the calculation\n",
    "The result is stored in the 'avg_rating' variable"
   ]
  },
  {
   "cell_type": "code",
   "execution_count": 42,
   "metadata": {},
   "outputs": [
    {
     "name": "stdout",
     "output_type": "stream",
     "text": [
      "Average Rating: 4.5\n"
     ]
    }
   ],
   "source": [
    "avg_rating = df['Rating'].mean()\n",
    "print(f'Average Rating: {avg_rating}')"
   ]
  },
  {
   "cell_type": "code",
   "execution_count": 43,
   "metadata": {},
   "outputs": [
    {
     "name": "stdout",
     "output_type": "stream",
     "text": [
      "   Runtime\n",
      "0    120.0\n",
      "1    115.0\n",
      "2     90.0\n",
      "3    150.0\n",
      "4    115.0\n",
      "5    100.0\n"
     ]
    },
    {
     "name": "stderr",
     "output_type": "stream",
     "text": [
      "C:\\Users\\MLuca\\AppData\\Local\\Temp\\ipykernel_31432\\4119585058.py:12: FutureWarning: A value is trying to be set on a copy of a DataFrame or Series through chained assignment using an inplace method.\n",
      "The behavior will change in pandas 3.0. This inplace method will never work because the intermediate object on which we are setting values always behaves as a copy.\n",
      "\n",
      "For example, when doing 'df[col].method(value, inplace=True)', try using 'df.method({col: value}, inplace=True)' or df[col] = df[col].method(value) instead, to perform the operation inplace on the original object.\n",
      "\n",
      "\n",
      "  df['Runtime'].fillna(df['Runtime'].mean(), inplace=True)  # Replace NaN with mean runtime\n"
     ]
    }
   ],
   "source": [
    "# Sample dataframe with invalid values in 'Runtime'\n",
    "data = {'Runtime': ['120 minutes', '...', '90 minutes', '150 minutes', 'N/A', '100 minutes']}\n",
    "df = pd.DataFrame(data)\n",
    "\n",
    "# Step 1: Remove non-numeric characters (e.g., 'minutes')\n",
    "df['Runtime'] = df['Runtime'].str.replace(r'\\D+', '', regex=True)\n",
    "\n",
    "# Step 2: Convert to numeric, invalid strings will be turned into NaN\n",
    "df['Runtime'] = pd.to_numeric(df['Runtime'], errors='coerce')\n",
    "\n",
    "# Step 3: Optionally handle NaN values (e.g., filling with mean or dropping them)\n",
    "df['Runtime'].fillna(df['Runtime'].mean(), inplace=True)  # Replace NaN with mean runtime\n",
    "\n",
    "print(df)"
   ]
  },
  {
   "cell_type": "markdown",
   "metadata": {},
   "source": [
    "Check for Missing Values: Check how many missing values exist in each column:"
   ]
  },
  {
   "cell_type": "markdown",
   "metadata": {},
   "source": [
    "Inspect Unique Values: To understand the data better, check the unique values in critical columns like Year, Genre, and Rating:"
   ]
  },
  {
   "cell_type": "code",
   "execution_count": 50,
   "metadata": {},
   "outputs": [
    {
     "name": "stdout",
     "output_type": "stream",
     "text": [
      "Missing values in each column:\n",
      "Movie Title    0\n",
      "Year           0\n",
      "Genre          0\n",
      "Critic Name    0\n",
      "Rating         0\n",
      "Review Text    0\n",
      "Runtime        0\n",
      "Director       0\n",
      "Cast           0\n",
      "Awards         0\n",
      "dtype: int64\n",
      "Unique Years:\n",
      "[1994 1972 1993]\n",
      "Unique Genres:\n",
      "['Drama' 'Crime' 'Historical']\n",
      "Unique Ratings:\n",
      "['4.5' '4']\n"
     ]
    }
   ],
   "source": [
    "# Check for missing values in each column\n",
    "print(\"Missing values in each column:\")\n",
    "print(df.isnull().sum())\n",
    "\n",
    "# Inspect unique values in critical columns\n",
    "print(\"Unique Years:\")\n",
    "print(df['Year'].unique())\n",
    "\n",
    "print(\"Unique Genres:\")\n",
    "print(df['Genre'].unique())\n",
    "\n",
    "print(\"Unique Ratings:\")\n",
    "print(df['Rating'].unique())"
   ]
  },
  {
   "cell_type": "code",
   "execution_count": 46,
   "metadata": {},
   "outputs": [
    {
     "name": "stdout",
     "output_type": "stream",
     "text": [
      "First few rows of the DataFrame:\n",
      "                Movie Title  Year       Genre   Critic Name Rating  \\\n",
      "0  The Shawshank Redemption  1994       Drama   Roger Ebert    4.5   \n",
      "1             The Godfather  1972       Crime   Gene Siskel      4   \n",
      "2          Schindler's List  1993  Historical  Pauline Kael    4.5   \n",
      "3                       ...   ...         ...           ...    ...   \n",
      "\n",
      "                        Review Text      Runtime              Director  \\\n",
      "0  A masterpiece of storytelling...  142 minutes        Frank Darabont   \n",
      "1            A classic film that...  175 minutes  Francis Ford Coppola   \n",
      "2          A powerful and moving...  195 minutes      Steven Spielberg   \n",
      "3                               ...          ...                   ...   \n",
      "\n",
      "                                       Cast  \\\n",
      "0   Tim Robbins, Morgan Freeman, Bob Gunton   \n",
      "1      Marlon Brando, Al Pacino, James Caan   \n",
      "2  Liam Neeson, Ralph Fiennes, Ben Kingsley   \n",
      "3                                       ...   \n",
      "\n",
      "                                       Awards  \n",
      "0    7 Academy Award nominations, 1 Oscar win  \n",
      "1  11 Academy Award nominations, 3 Oscar wins  \n",
      "2  12 Academy Award nominations, 7 Oscar wins  \n",
      "3                                         ...  \n",
      "Column names in the DataFrame:\n",
      "['Movie Title', 'Year', 'Genre', 'Critic Name', 'Rating', 'Review Text', 'Runtime', 'Director', 'Cast', 'Awards']\n",
      "Non-numeric values in 'Year' column:\n",
      "  Movie Title Year Genre Critic Name Rating Review Text Runtime Director Cast  \\\n",
      "3         ...  ...   ...         ...    ...         ...     ...      ...  ...   \n",
      "\n",
      "  Awards  \n",
      "3    ...  \n",
      "DataFrame info after cleaning:\n",
      "<class 'pandas.core.frame.DataFrame'>\n",
      "Index: 3 entries, 0 to 2\n",
      "Data columns (total 10 columns):\n",
      " #   Column       Non-Null Count  Dtype \n",
      "---  ------       --------------  ----- \n",
      " 0   Movie Title  3 non-null      object\n",
      " 1   Year         3 non-null      int32 \n",
      " 2   Genre        3 non-null      object\n",
      " 3   Critic Name  3 non-null      object\n",
      " 4   Rating       3 non-null      object\n",
      " 5   Review Text  3 non-null      object\n",
      " 6   Runtime      3 non-null      object\n",
      " 7   Director     3 non-null      object\n",
      " 8   Cast         3 non-null      object\n",
      " 9   Awards       3 non-null      object\n",
      "dtypes: int32(1), object(9)\n",
      "memory usage: 252.0+ bytes\n",
      "None\n"
     ]
    },
    {
     "ename": "TypeError",
     "evalue": "Column 'Rating' has dtype object, cannot use method 'nlargest' with this dtype",
     "output_type": "error",
     "traceback": [
      "\u001b[1;31m---------------------------------------------------------------------------\u001b[0m",
      "\u001b[1;31mTypeError\u001b[0m                                 Traceback (most recent call last)",
      "Cell \u001b[1;32mIn[46], line 52\u001b[0m\n\u001b[0;32m     50\u001b[0m \u001b[38;5;66;03m# a. Top Movies by Rating\u001b[39;00m\n\u001b[0;32m     51\u001b[0m \u001b[38;5;28;01mif\u001b[39;00m rating_col \u001b[38;5;129;01min\u001b[39;00m df\u001b[38;5;241m.\u001b[39mcolumns:\n\u001b[1;32m---> 52\u001b[0m     top_movies \u001b[38;5;241m=\u001b[39m \u001b[43mdf\u001b[49m\u001b[38;5;241;43m.\u001b[39;49m\u001b[43mnlargest\u001b[49m\u001b[43m(\u001b[49m\u001b[38;5;241;43m10\u001b[39;49m\u001b[43m,\u001b[49m\u001b[43m \u001b[49m\u001b[43mrating_col\u001b[49m\u001b[43m)\u001b[49m\n\u001b[0;32m     53\u001b[0m     \u001b[38;5;28mprint\u001b[39m(\u001b[38;5;124m\"\u001b[39m\u001b[38;5;124mTop 10 Movies by Rating:\u001b[39m\u001b[38;5;124m\"\u001b[39m)\n\u001b[0;32m     54\u001b[0m     \u001b[38;5;28mprint\u001b[39m(top_movies[[\u001b[38;5;124m'\u001b[39m\u001b[38;5;124mMovie Title\u001b[39m\u001b[38;5;124m'\u001b[39m, rating_col]])  \u001b[38;5;66;03m# Update 'title' with the actual column name\u001b[39;00m\n",
      "File \u001b[1;32mc:\\Users\\MLuca\\AppData\\Local\\Programs\\Python\\Python312\\Lib\\site-packages\\pandas\\core\\frame.py:7644\u001b[0m, in \u001b[0;36mDataFrame.nlargest\u001b[1;34m(self, n, columns, keep)\u001b[0m\n\u001b[0;32m   7525\u001b[0m \u001b[38;5;28;01mdef\u001b[39;00m \u001b[38;5;21mnlargest\u001b[39m(\n\u001b[0;32m   7526\u001b[0m     \u001b[38;5;28mself\u001b[39m, n: \u001b[38;5;28mint\u001b[39m, columns: IndexLabel, keep: NsmallestNlargestKeep \u001b[38;5;241m=\u001b[39m \u001b[38;5;124m\"\u001b[39m\u001b[38;5;124mfirst\u001b[39m\u001b[38;5;124m\"\u001b[39m\n\u001b[0;32m   7527\u001b[0m ) \u001b[38;5;241m-\u001b[39m\u001b[38;5;241m>\u001b[39m DataFrame:\n\u001b[0;32m   7528\u001b[0m \u001b[38;5;250m    \u001b[39m\u001b[38;5;124;03m\"\"\"\u001b[39;00m\n\u001b[0;32m   7529\u001b[0m \u001b[38;5;124;03m    Return the first `n` rows ordered by `columns` in descending order.\u001b[39;00m\n\u001b[0;32m   7530\u001b[0m \n\u001b[1;32m   (...)\u001b[0m\n\u001b[0;32m   7642\u001b[0m \u001b[38;5;124;03m    Brunei      434000    12128      BN\u001b[39;00m\n\u001b[0;32m   7643\u001b[0m \u001b[38;5;124;03m    \"\"\"\u001b[39;00m\n\u001b[1;32m-> 7644\u001b[0m     \u001b[38;5;28;01mreturn\u001b[39;00m \u001b[43mselectn\u001b[49m\u001b[38;5;241;43m.\u001b[39;49m\u001b[43mSelectNFrame\u001b[49m\u001b[43m(\u001b[49m\u001b[38;5;28;43mself\u001b[39;49m\u001b[43m,\u001b[49m\u001b[43m \u001b[49m\u001b[43mn\u001b[49m\u001b[38;5;241;43m=\u001b[39;49m\u001b[43mn\u001b[49m\u001b[43m,\u001b[49m\u001b[43m \u001b[49m\u001b[43mkeep\u001b[49m\u001b[38;5;241;43m=\u001b[39;49m\u001b[43mkeep\u001b[49m\u001b[43m,\u001b[49m\u001b[43m \u001b[49m\u001b[43mcolumns\u001b[49m\u001b[38;5;241;43m=\u001b[39;49m\u001b[43mcolumns\u001b[49m\u001b[43m)\u001b[49m\u001b[38;5;241;43m.\u001b[39;49m\u001b[43mnlargest\u001b[49m\u001b[43m(\u001b[49m\u001b[43m)\u001b[49m\n",
      "File \u001b[1;32mc:\\Users\\MLuca\\AppData\\Local\\Programs\\Python\\Python312\\Lib\\site-packages\\pandas\\core\\methods\\selectn.py:57\u001b[0m, in \u001b[0;36mSelectN.nlargest\u001b[1;34m(self)\u001b[0m\n\u001b[0;32m     55\u001b[0m \u001b[38;5;129m@final\u001b[39m\n\u001b[0;32m     56\u001b[0m \u001b[38;5;28;01mdef\u001b[39;00m \u001b[38;5;21mnlargest\u001b[39m(\u001b[38;5;28mself\u001b[39m):\n\u001b[1;32m---> 57\u001b[0m     \u001b[38;5;28;01mreturn\u001b[39;00m \u001b[38;5;28;43mself\u001b[39;49m\u001b[38;5;241;43m.\u001b[39;49m\u001b[43mcompute\u001b[49m\u001b[43m(\u001b[49m\u001b[38;5;124;43m\"\u001b[39;49m\u001b[38;5;124;43mnlargest\u001b[39;49m\u001b[38;5;124;43m\"\u001b[39;49m\u001b[43m)\u001b[49m\n",
      "File \u001b[1;32mc:\\Users\\MLuca\\AppData\\Local\\Programs\\Python\\Python312\\Lib\\site-packages\\pandas\\core\\methods\\selectn.py:201\u001b[0m, in \u001b[0;36mSelectNFrame.compute\u001b[1;34m(self, method)\u001b[0m\n\u001b[0;32m    199\u001b[0m     dtype \u001b[38;5;241m=\u001b[39m frame[column]\u001b[38;5;241m.\u001b[39mdtype\n\u001b[0;32m    200\u001b[0m     \u001b[38;5;28;01mif\u001b[39;00m \u001b[38;5;129;01mnot\u001b[39;00m \u001b[38;5;28mself\u001b[39m\u001b[38;5;241m.\u001b[39mis_valid_dtype_n_method(dtype):\n\u001b[1;32m--> 201\u001b[0m         \u001b[38;5;28;01mraise\u001b[39;00m \u001b[38;5;167;01mTypeError\u001b[39;00m(\n\u001b[0;32m    202\u001b[0m             \u001b[38;5;124mf\u001b[39m\u001b[38;5;124m\"\u001b[39m\u001b[38;5;124mColumn \u001b[39m\u001b[38;5;132;01m{\u001b[39;00m\u001b[38;5;28mrepr\u001b[39m(column)\u001b[38;5;132;01m}\u001b[39;00m\u001b[38;5;124m has dtype \u001b[39m\u001b[38;5;132;01m{\u001b[39;00mdtype\u001b[38;5;132;01m}\u001b[39;00m\u001b[38;5;124m, \u001b[39m\u001b[38;5;124m\"\u001b[39m\n\u001b[0;32m    203\u001b[0m             \u001b[38;5;124mf\u001b[39m\u001b[38;5;124m\"\u001b[39m\u001b[38;5;124mcannot use method \u001b[39m\u001b[38;5;132;01m{\u001b[39;00m\u001b[38;5;28mrepr\u001b[39m(method)\u001b[38;5;132;01m}\u001b[39;00m\u001b[38;5;124m with this dtype\u001b[39m\u001b[38;5;124m\"\u001b[39m\n\u001b[0;32m    204\u001b[0m         )\n\u001b[0;32m    206\u001b[0m \u001b[38;5;28;01mdef\u001b[39;00m \u001b[38;5;21mget_indexer\u001b[39m(current_indexer, other_indexer):\n\u001b[0;32m    207\u001b[0m \u001b[38;5;250m    \u001b[39m\u001b[38;5;124;03m\"\"\"\u001b[39;00m\n\u001b[0;32m    208\u001b[0m \u001b[38;5;124;03m    Helper function to concat `current_indexer` and `other_indexer`\u001b[39;00m\n\u001b[0;32m    209\u001b[0m \u001b[38;5;124;03m    depending on `method`\u001b[39;00m\n\u001b[0;32m    210\u001b[0m \u001b[38;5;124;03m    \"\"\"\u001b[39;00m\n",
      "\u001b[1;31mTypeError\u001b[0m: Column 'Rating' has dtype object, cannot use method 'nlargest' with this dtype"
     ]
    }
   ],
   "source": [
    "import pandas as pd\n",
    "import matplotlib.pyplot as plt\n",
    "\n",
    "# Step 1: Reading the CSV File\n",
    "df = pd.read_csv('movies.csv')\n",
    "\n",
    "# Step 2: Data Cleaning and Preprocessing\n",
    "# Display the first few rows of the data\n",
    "print(\"First few rows of the DataFrame:\")\n",
    "print(df.head())\n",
    "\n",
    "# Check the column names in the DataFrame\n",
    "print(\"Column names in the DataFrame:\")\n",
    "print(df.columns.tolist())\n",
    "\n",
    "# Drop rows with missing values\n",
    "df.dropna(inplace=True)\n",
    "\n",
    "# Check for duplicates and remove them if necessary\n",
    "df.drop_duplicates(inplace=True)\n",
    "\n",
    "# Clean the 'Year' column\n",
    "year_col = 'Year'  # The actual column name for the release year\n",
    "if year_col in df.columns:\n",
    "    df[year_col] = pd.to_numeric(df[year_col], errors='coerce')\n",
    "    df.dropna(subset=[year_col], inplace=True)  # Drop rows with NaN in 'Year'\n",
    "    df[year_col] = df[year_col].astype(int)  # Now convert to int\n",
    "\n",
    "# Clean the 'Rating' column\n",
    "rating_col = 'Rating'  # The actual column name for ratings\n",
    "if rating_col in df.columns:\n",
    "    df[rating_col] = pd.to_numeric(df[rating_col], errors='coerce')  # Convert to numeric\n",
    "    df.dropna(subset=[rating_col], inplace=True)  # Drop rows with NaN in 'Rating'\n",
    "else:\n",
    "    print(f\"Column '{rating_col}' does not exist in the DataFrame.\")\n",
    "\n",
    "# Display cleaned data\n",
    "print(\"DataFrame info after cleaning:\")\n",
    "print(df.info())\n",
    "\n",
    "# Step 3: Basic Analysis\n",
    "\n",
    "# a. Top Movies by Rating\n",
    "if rating_col in df.columns:\n",
    "    top_movies = df.nlargest(10, rating_col)\n",
    "    print(\"Top 10 Movies by Rating:\")\n",
    "    print(top_movies[['Movie Title', rating_col]])  # Update 'title' with the actual column name\n",
    "else:\n",
    "    print(f\"Column '{rating_col}' does not exist in the DataFrame.\")\n",
    "\n",
    "# b. Average Rating by Genre\n",
    "average_rating_by_genre = None  # Initialize variable\n",
    "if genre_col in df.columns and rating_col in df.columns:\n",
    "    average_rating_by_genre = df.groupby(genre_col)[rating_col].mean().reset_index()\n",
    "    print(\"Average Rating by Genre:\")\n",
    "    print(average_rating_by_genre)\n",
    "else:\n",
    "    print(f\"Columns '{genre_col}' or '{rating_col}' do not exist in the DataFrame.\")\n",
    "\n",
    "# Step 4: Visualization\n",
    "\n",
    "# a. Plotting Ratings Distribution\n",
    "if rating_col in df.columns:\n",
    "    plt.figure(figsize=(10, 5))\n",
    "    plt.hist(df[rating_col], bins=20, color='skyblue', edgecolor='black')\n",
    "    plt.title('Distribution of Movie Ratings')\n",
    "    plt.xlabel('Rating')\n",
    "    plt.ylabel('Frequency')\n",
    "    plt.grid(axis='y')\n",
    "    plt.show()\n",
    "else:\n",
    "    print(f\"Column '{rating_col}' does not exist in the DataFrame.\")\n",
    "\n",
    "# b. Average Rating by Genre Bar Chart\n",
    "if average_rating_by_genre is not None and genre_col in average_rating_by_genre.columns and rating_col in average_rating_by_genre.columns:\n",
    "    plt.figure(figsize=(12, 6))\n",
    "    plt.bar(average_rating_by_genre[genre_col], average_rating_by_genre[rating_col], color='lightcoral')\n",
    "    plt.title('Average Movie Rating by Genre')\n",
    "    plt.xlabel('Genre')\n",
    "    plt.ylabel('Average Rating')\n",
    "    plt.xticks(rotation=45)\n",
    "    plt.grid(axis='y')\n",
    "    plt.tight_layout()\n",
    "    plt.show()\n",
    "else:\n",
    "    print(f\"Cannot plot bar chart: Check if average_rating_by_genre was created successfully.\")\n",
    "\n",
    "# Step 5: Insights Extraction\n",
    "if average_rating_by_genre is not None and genre_col in average_rating_by_genre.columns and rating_col in average_rating_by_genre.columns:\n",
    "    highest_avg_genre = average_rating_by_genre.loc[average_rating_by_genre[rating_col].idxmax()]\n",
    "    print(f\"Genre with the highest average rating: {highest_avg_genre[genre_col]} with an average rating of {highest_avg_genre[rating_col]:.2f}.\")\n",
    "else:\n",
    "    print(f\"Cannot extract insights: Check if average_rating_by_genre was created successfully.\")"
   ]
  }
 ],
 "metadata": {
  "kernelspec": {
   "display_name": "Python 3",
   "language": "python",
   "name": "python3"
  },
  "language_info": {
   "codemirror_mode": {
    "name": "ipython",
    "version": 3
   },
   "file_extension": ".py",
   "mimetype": "text/x-python",
   "name": "python",
   "nbconvert_exporter": "python",
   "pygments_lexer": "ipython3",
   "version": "3.12.7"
  }
 },
 "nbformat": 4,
 "nbformat_minor": 2
}
